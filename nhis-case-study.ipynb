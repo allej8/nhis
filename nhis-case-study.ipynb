{
 "cells": [
  {
   "cell_type": "code",
   "execution_count": 1,
   "metadata": {},
   "outputs": [],
   "source": [
    "import pandas as pd\n",
    "import numpy as np\n",
    "import statsmodels.api as sm\n",
    "import seaborn as sns\n",
    "import matplotlib.pyplot as plt\n",
    "%matplotlib inline\n",
    "\n",
    "from dfply import *\n",
    "from tableone import TableOne"
   ]
  },
  {
   "cell_type": "code",
   "execution_count": 2,
   "metadata": {},
   "outputs": [
    {
     "data": {
      "text/plain": [
       "(13389, 602)"
      ]
     },
     "execution_count": 2,
     "metadata": {},
     "output_type": "execute_result"
    }
   ],
   "source": [
    "# reading in family info and subsetting to 65+ year olds\n",
    "peeps = pd.read_csv('Data/personsx.csv')\n",
    "peeps = peeps.assign(_id=np.arange(len(peeps))).reset_index(drop=True)\n",
    "peeps65 = peeps[(peeps['AGE_P']>=65)].copy()\n",
    "peeps65.shape"
   ]
  },
  {
   "cell_type": "code",
   "execution_count": 3,
   "metadata": {},
   "outputs": [
    {
     "data": {
      "text/plain": [
       "array([[<matplotlib.axes._subplots.AxesSubplot object at 0x7fb22c51c908>,\n",
       "        <matplotlib.axes._subplots.AxesSubplot object at 0x7fb22c36d2b0>],\n",
       "       [<matplotlib.axes._subplots.AxesSubplot object at 0x7fb22c0e7828>,\n",
       "        <matplotlib.axes._subplots.AxesSubplot object at 0x7fb22c098da0>]],\n",
       "      dtype=object)"
      ]
     },
     "execution_count": 3,
     "metadata": {},
     "output_type": "execute_result"
    },
    {
     "data": {
      "image/png": "[encoded data removed]",
      "text/plain": [
       "<Figure size 432x288 with 4 Axes>"
      ]
     },
     "metadata": {
      "needs_background": "light"
     },
     "output_type": "display_data"
    }
   ],
   "source": [
    "peeps65[['AGE_P', 'P10DVYR', 'PHOSPYR2', 'HOSPNO']].dropna().hist(sharex=False)"
   ]
  },
  {
   "cell_type": "code",
   "execution_count": 4,
   "metadata": {},
   "outputs": [
    {
     "data": {
      "text/plain": [
       "array([[<matplotlib.axes._subplots.AxesSubplot object at 0x7fb22c210e80>,\n",
       "        <matplotlib.axes._subplots.AxesSubplot object at 0x7fb22c3a58d0>],\n",
       "       [<matplotlib.axes._subplots.AxesSubplot object at 0x7fb22c30ce48>,\n",
       "        <matplotlib.axes._subplots.AxesSubplot object at 0x7fb22c2bc400>]],\n",
       "      dtype=object)"
      ]
     },
     "execution_count": 4,
     "metadata": {},
     "output_type": "execute_result"
    },
    {
     "data": {
      "image/png": "[encoded data removed]",
      "text/plain": [
       "<Figure size 432x288 with 4 Axes>"
      ]
     },
     "metadata": {
      "needs_background": "light"
     },
     "output_type": "display_data"
    }
   ],
   "source": [
    "def remove_useless_responses(df, col, values):\n",
    "    df[col] = np.where(df[col].isin(values), np.nan, df[col])\n",
    "    \n",
    "remove_useless_responses(peeps65, 'HOSPNO', [999])\n",
    "remove_useless_responses(peeps65, 'AGE_P', [85])\n",
    "remove_useless_responses(peeps65, 'P10DVYR', [7,8,9])\n",
    "remove_useless_responses(peeps65, 'PHOSPYR2', [7,8,9])\n",
    "remove_useless_responses(peeps65, 'WRKLYR1', [7,8,9])\n",
    "remove_useless_responses(peeps65, 'COVER65', [6])\n",
    "\n",
    "peeps65[['AGE_P', 'P10DVYR', 'PHOSPYR2', 'HOSPNO']].dropna().hist()"
   ]
  },
  {
   "cell_type": "code",
   "execution_count": 5,
   "metadata": {},
   "outputs": [
    {
     "data": {
      "text/plain": [
       "2.0    11320\n",
       "1.0     2049\n",
       "Name: PHOSPYR2, dtype: int64"
      ]
     },
     "execution_count": 5,
     "metadata": {},
     "output_type": "execute_result"
    }
   ],
   "source": [
    "# histogram was usless\n",
    "peeps65['PHOSPYR2'].value_counts() "
   ]
  },
  {
   "cell_type": "code",
   "execution_count": 6,
   "metadata": {},
   "outputs": [
    {
     "data": {
      "text/plain": [
       "count    2041.000000\n",
       "mean        1.582068\n",
       "std         1.620413\n",
       "min         1.000000\n",
       "25%         1.000000\n",
       "50%         1.000000\n",
       "75%         2.000000\n",
       "max        42.000000\n",
       "Name: HOSPNO, dtype: float64"
      ]
     },
     "execution_count": 6,
     "metadata": {},
     "output_type": "execute_result"
    }
   ],
   "source": [
    "# more information in hospital nights\n",
    "peeps65['HOSPNO'].describe()"
   ]
  },
  {
   "cell_type": "code",
   "execution_count": 7,
   "metadata": {},
   "outputs": [
    {
     "data": {
      "text/plain": [
       "1.0     1429\n",
       "2.0      369\n",
       "3.0      128\n",
       "4.0       57\n",
       "5.0       21\n",
       "6.0       16\n",
       "9.0        6\n",
       "7.0        5\n",
       "10.0       4\n",
       "14.0       2\n",
       "30.0       1\n",
       "42.0       1\n",
       "12.0       1\n",
       "8.0        1\n",
       "Name: HOSPNO, dtype: int64"
      ]
     },
     "execution_count": 7,
     "metadata": {},
     "output_type": "execute_result"
    }
   ],
   "source": [
    "# probably want to categorize\n",
    "peeps65['HOSPNO'].value_counts()"
   ]
  },
  {
   "cell_type": "code",
   "execution_count": 8,
   "metadata": {},
   "outputs": [
    {
     "data": {
      "text/plain": [
       "             11348\n",
       "1             1429\n",
       "2              369\n",
       "3              128\n",
       "4 or more      115\n",
       "Name: HOSPNO_CAT, dtype: int64"
      ]
     },
     "execution_count": 8,
     "metadata": {},
     "output_type": "execute_result"
    }
   ],
   "source": [
    "# recoding a few things\n",
    "# work last year\n",
    "peeps65['WRK_LST_YR'] = ''\n",
    "peeps65['WRK_LST_YR'] = np.where(peeps65['WRKLYR1'] == 1, 'Yes', peeps65['WRK_LST_YR'])\n",
    "peeps65['WRK_LST_YR'] = np.where(peeps65['WRKLYR1'] == 2, 'No', peeps65['WRK_LST_YR'])\n",
    "peeps65['WRK_LST_YR'] = np.where(peeps65['WRK_LST_YR'] == '', np.nan, peeps65['WRK_LST_YR'])\n",
    "\n",
    "# insurance \n",
    "peeps65['INSURANCE'] = ''\n",
    "peeps65['INSURANCE'] = np.where(peeps65['COVER65'] == 1, 'Private', peeps65['INSURANCE'])\n",
    "peeps65['INSURANCE'] = np.where(peeps65['COVER65'] == 2, 'Dual eligible', peeps65['INSURANCE'])\n",
    "peeps65['INSURANCE'] = np.where(peeps65['COVER65'] == 3, 'Medicare Advantage', peeps65['INSURANCE'])\n",
    "peeps65['INSURANCE'] = np.where(peeps65['COVER65'] == 4, 'Medicare only', peeps65['INSURANCE'])\n",
    "peeps65['INSURANCE'] = np.where(peeps65['COVER65'] == 5, 'Other coverage', peeps65['INSURANCE'])\n",
    "peeps65['INSURANCE'] = np.where(peeps65['INSURANCE'] == '', np.nan, peeps65['INSURANCE'])\n",
    "\n",
    "# limited\n",
    "peeps65['LIMITED'] = ''\n",
    "peeps65['LIMITED'] = np.where(peeps65['LACHRONR'] == 0, 'Not limited in anyway', peeps65['LIMITED'])\n",
    "peeps65['LIMITED'] = np.where(peeps65['LACHRONR'] == 1, 'Limited; chronic condition', peeps65['LIMITED'])\n",
    "peeps65['LIMITED'] = np.where(peeps65['LACHRONR'].isin([2,3]), 'Limited; not chronic or status unknown', peeps65['LIMITED'])\n",
    "peeps65['LIMITED'] = np.where(peeps65['LIMITED'] == '', np.nan, peeps65['LIMITED'])\n",
    "\n",
    "\n",
    "# 10 primary care visits in the last year.... this seems like a lot\n",
    "peeps65['VISITS_10'] = ''\n",
    "peeps65['VISITS_10'] = np.where(peeps65['P10DVYR'] == 1, 'Yes', peeps65['VISITS_10'])\n",
    "peeps65['VISITS_10'] = np.where(peeps65['P10DVYR'] == 2, 'No', peeps65['VISITS_10'])\n",
    "peeps65['VISITS_10'] = np.where(peeps65['VISITS_10'] == '', np.nan, peeps65['VISITS_10'])\n",
    "\n",
    "# Assuming an overnight hospital stay is an admission\n",
    "peeps65['HOSPITAL_STAY'] = ''\n",
    "peeps65['HOSPITAL_STAY'] = np.where(peeps65['PHOSPYR2'] == 1, 'Yes', peeps65['HOSPITAL_STAY'])\n",
    "peeps65['HOSPITAL_STAY'] = np.where(peeps65['PHOSPYR2'] == 2, 'No', peeps65['HOSPITAL_STAY'])\n",
    "peeps65['HOSPITAL_STAY'] = np.where(peeps65['HOSPITAL_STAY'] == '', np.nan, peeps65['HOSPITAL_STAY'])\n",
    "\n",
    "peeps65['HOSPNO_CAT'] = ''\n",
    "peeps65['HOSPNO_CAT'] = np.where(peeps65['HOSPNO'] == 1, '1', peeps65['HOSPNO_CAT'])\n",
    "peeps65['HOSPNO_CAT'] = np.where(peeps65['HOSPNO'] == 2, '2', peeps65['HOSPNO_CAT'])\n",
    "peeps65['HOSPNO_CAT'] = np.where(peeps65['HOSPNO'] == 3, '3', peeps65['HOSPNO_CAT'])\n",
    "peeps65['HOSPNO_CAT'] = np.where(peeps65['HOSPNO'] > 3, '4 or more', peeps65['HOSPNO_CAT'])\n",
    "peeps65['HOSPNO_CAT'].value_counts()"
   ]
  },
  {
   "cell_type": "code",
   "execution_count": 9,
   "metadata": {},
   "outputs": [
    {
     "data": {
      "text/plain": [
       "Private               5608\n",
       "Medicare Advantage    3389\n",
       "Medicare only         2345\n",
       "Other coverage         966\n",
       "Dual eligible          923\n",
       "Name: INSURANCE, dtype: int64"
      ]
     },
     "execution_count": 9,
     "metadata": {},
     "output_type": "execute_result"
    }
   ],
   "source": [
    "peeps65.INSURANCE.value_counts()"
   ]
  },
  {
   "cell_type": "markdown",
   "metadata": {},
   "source": [
    "### Are individuals who have 10 or more visits during the calendar year more likely to also have a hospital stay?\n",
    "- Are they continually having problems?\n",
    "- Are they abusing the healthcare system?\n",
    "- Are they extremely proactive about their health?"
   ]
  },
  {
   "cell_type": "code",
   "execution_count": 10,
   "metadata": {},
   "outputs": [
    {
     "data": {
      "text/plain": [
       "(11721, 8)"
      ]
     },
     "execution_count": 10,
     "metadata": {},
     "output_type": "execute_result"
    }
   ],
   "source": [
    "cols_to_keep = ['_id','HOSPITAL_STAY', 'HOSPNO_CAT', 'VISITS_10', 'AGE_P', 'LIMITED', 'INSURANCE', 'WRK_LST_YR']\n",
    "dat = peeps65[cols_to_keep].copy().dropna()\n",
    "dat.shape"
   ]
  },
  {
   "cell_type": "code",
   "execution_count": 18,
   "metadata": {},
   "outputs": [
    {
     "data": {
      "text/html": [
       "<div>\n",
       "<style scoped>\n",
       "    .dataframe tbody tr th:only-of-type {\n",
       "        vertical-align: middle;\n",
       "    }\n",
       "\n",
       "    .dataframe tbody tr th {\n",
       "        vertical-align: top;\n",
       "    }\n",
       "\n",
       "    .dataframe thead tr th {\n",
       "        text-align: left;\n",
       "    }\n",
       "</style>\n",
       "<table border=\"1\" class=\"dataframe\">\n",
       "  <thead>\n",
       "    <tr>\n",
       "      <th></th>\n",
       "      <th></th>\n",
       "      <th colspan=\"5\" halign=\"left\">Grouped by VISITS_10</th>\n",
       "    </tr>\n",
       "    <tr>\n",
       "      <th></th>\n",
       "      <th></th>\n",
       "      <th>Missing</th>\n",
       "      <th>No</th>\n",
       "      <th>Yes</th>\n",
       "      <th>P-Value</th>\n",
       "      <th>Test</th>\n",
       "    </tr>\n",
       "  </thead>\n",
       "  <tbody>\n",
       "    <tr>\n",
       "      <th>n</th>\n",
       "      <th></th>\n",
       "      <td></td>\n",
       "      <td>9575</td>\n",
       "      <td>2146</td>\n",
       "      <td></td>\n",
       "      <td></td>\n",
       "    </tr>\n",
       "    <tr>\n",
       "      <th rowspan=\"2\" valign=\"top\">VISITS_10</th>\n",
       "      <th>No</th>\n",
       "      <td>0</td>\n",
       "      <td>9575 (100.0)</td>\n",
       "      <td></td>\n",
       "      <td>&lt;0.001</td>\n",
       "      <td>Chi-squared</td>\n",
       "    </tr>\n",
       "    <tr>\n",
       "      <th>Yes</th>\n",
       "      <td></td>\n",
       "      <td></td>\n",
       "      <td>2146 (100.0)</td>\n",
       "      <td></td>\n",
       "      <td></td>\n",
       "    </tr>\n",
       "    <tr>\n",
       "      <th>AGE_P</th>\n",
       "      <th></th>\n",
       "      <td>0</td>\n",
       "      <td>72.1 (5.4)</td>\n",
       "      <td>72.8 (5.5)</td>\n",
       "      <td>&lt;0.001</td>\n",
       "      <td>Two Sample T-test</td>\n",
       "    </tr>\n",
       "    <tr>\n",
       "      <th rowspan=\"3\" valign=\"top\">LIMITED</th>\n",
       "      <th>Limited; chronic condition</th>\n",
       "      <td>0</td>\n",
       "      <td>2162 (22.6)</td>\n",
       "      <td>1254 (58.4)</td>\n",
       "      <td>&lt;0.001</td>\n",
       "      <td>Chi-squared</td>\n",
       "    </tr>\n",
       "    <tr>\n",
       "      <th>Limited; not chronic or status unknown</th>\n",
       "      <td></td>\n",
       "      <td>62 (0.6)</td>\n",
       "      <td>19 (0.9)</td>\n",
       "      <td></td>\n",
       "      <td></td>\n",
       "    </tr>\n",
       "    <tr>\n",
       "      <th>Not limited in anyway</th>\n",
       "      <td></td>\n",
       "      <td>7351 (76.8)</td>\n",
       "      <td>873 (40.7)</td>\n",
       "      <td></td>\n",
       "      <td></td>\n",
       "    </tr>\n",
       "    <tr>\n",
       "      <th rowspan=\"5\" valign=\"top\">INSURANCE</th>\n",
       "      <th>Dual eligible</th>\n",
       "      <td>0</td>\n",
       "      <td>512 (5.3)</td>\n",
       "      <td>295 (13.7)</td>\n",
       "      <td>&lt;0.001</td>\n",
       "      <td>Chi-squared</td>\n",
       "    </tr>\n",
       "    <tr>\n",
       "      <th>Medicare Advantage</th>\n",
       "      <td></td>\n",
       "      <td>2563 (26.8)</td>\n",
       "      <td>478 (22.3)</td>\n",
       "      <td></td>\n",
       "      <td></td>\n",
       "    </tr>\n",
       "    <tr>\n",
       "      <th>Medicare only</th>\n",
       "      <td></td>\n",
       "      <td>1773 (18.5)</td>\n",
       "      <td>303 (14.1)</td>\n",
       "      <td></td>\n",
       "      <td></td>\n",
       "    </tr>\n",
       "    <tr>\n",
       "      <th>Other coverage</th>\n",
       "      <td></td>\n",
       "      <td>677 (7.1)</td>\n",
       "      <td>170 (7.9)</td>\n",
       "      <td></td>\n",
       "      <td></td>\n",
       "    </tr>\n",
       "    <tr>\n",
       "      <th>Private</th>\n",
       "      <td></td>\n",
       "      <td>4050 (42.3)</td>\n",
       "      <td>900 (41.9)</td>\n",
       "      <td></td>\n",
       "      <td></td>\n",
       "    </tr>\n",
       "    <tr>\n",
       "      <th rowspan=\"2\" valign=\"top\">WRK_LST_YR</th>\n",
       "      <th>No</th>\n",
       "      <td>0</td>\n",
       "      <td>6994 (73.0)</td>\n",
       "      <td>1781 (83.0)</td>\n",
       "      <td>&lt;0.001</td>\n",
       "      <td>Chi-squared</td>\n",
       "    </tr>\n",
       "    <tr>\n",
       "      <th>Yes</th>\n",
       "      <td></td>\n",
       "      <td>2581 (27.0)</td>\n",
       "      <td>365 (17.0)</td>\n",
       "      <td></td>\n",
       "      <td></td>\n",
       "    </tr>\n",
       "    <tr>\n",
       "      <th rowspan=\"2\" valign=\"top\">HOSPITAL_STAY</th>\n",
       "      <th>No</th>\n",
       "      <td>0</td>\n",
       "      <td>8661 (90.5)</td>\n",
       "      <td>1350 (62.9)</td>\n",
       "      <td>&lt;0.001</td>\n",
       "      <td>Chi-squared</td>\n",
       "    </tr>\n",
       "    <tr>\n",
       "      <th>Yes</th>\n",
       "      <td></td>\n",
       "      <td>914 (9.5)</td>\n",
       "      <td>796 (37.1)</td>\n",
       "      <td></td>\n",
       "      <td></td>\n",
       "    </tr>\n",
       "  </tbody>\n",
       "</table>\n",
       "</div><br />[1] Warning, Hartigan's Dip Test reports possible multimodal distributions for: AGE_P.<br />[2] Warning, test for normality reports non-normal distributions for: AGE_P.<br />"
      ],
      "text/plain": [
       "                                                     Grouped by VISITS_10                                                       \n",
       "                                                                  Missing            No           Yes P-Value               Test\n",
       "n                                                                                  9575          2146                           \n",
       "VISITS_10     No                                                        0  9575 (100.0)                <0.001        Chi-squared\n",
       "              Yes                                                                        2146 (100.0)                           \n",
       "AGE_P                                                                   0    72.1 (5.4)    72.8 (5.5)  <0.001  Two Sample T-test\n",
       "LIMITED       Limited; chronic condition                                0   2162 (22.6)   1254 (58.4)  <0.001        Chi-squared\n",
       "              Limited; not chronic or status unknown                           62 (0.6)      19 (0.9)                           \n",
       "              Not limited in anyway                                         7351 (76.8)    873 (40.7)                           \n",
       "INSURANCE     Dual eligible                                             0     512 (5.3)    295 (13.7)  <0.001        Chi-squared\n",
       "              Medicare Advantage                                            2563 (26.8)    478 (22.3)                           \n",
       "              Medicare only                                                 1773 (18.5)    303 (14.1)                           \n",
       "              Other coverage                                                  677 (7.1)     170 (7.9)                           \n",
       "              Private                                                       4050 (42.3)    900 (41.9)                           \n",
       "WRK_LST_YR    No                                                        0   6994 (73.0)   1781 (83.0)  <0.001        Chi-squared\n",
       "              Yes                                                           2581 (27.0)    365 (17.0)                           \n",
       "HOSPITAL_STAY No                                                        0   8661 (90.5)   1350 (62.9)  <0.001        Chi-squared\n",
       "              Yes                                                             914 (9.5)    796 (37.1)                           \n",
       "[1] Warning, Hartigan's Dip Test reports possible multimodal distributions for: AGE_P.\n",
       "[2] Warning, test for normality reports non-normal distributions for: AGE_P."
      ]
     },
     "execution_count": 18,
     "metadata": {},
     "output_type": "execute_result"
    }
   ],
   "source": [
    "columns = ['VISITS_10', 'AGE_P', 'LIMITED', 'INSURANCE', 'WRK_LST_YR', 'HOSPITAL_STAY']\n",
    "categorical = ['VISITS_10', 'LIMITED', 'INSURANCE', 'WRK_LST_YR', 'HOSPITAL_STAY']\n",
    "groupby = ['VISITS_10']\n",
    "# nonnormal = columns[1:len(columns)]\n",
    "# mytable = TableOne(baseProv, columns, categorical, groupby, nonnormal, pval=True, isnull=True)\n",
    "mytable = TableOne(dat, columns, categorical, groupby, pval=True)\n",
    "mytable.to_excel('tableone.xlsx')\n",
    "mytable"
   ]
  },
  {
   "cell_type": "code",
   "execution_count": 12,
   "metadata": {},
   "outputs": [
    {
     "data": {
      "text/html": [
       "<div>\n",
       "<style scoped>\n",
       "    .dataframe tbody tr th:only-of-type {\n",
       "        vertical-align: middle;\n",
       "    }\n",
       "\n",
       "    .dataframe tbody tr th {\n",
       "        vertical-align: top;\n",
       "    }\n",
       "\n",
       "    .dataframe thead th {\n",
       "        text-align: right;\n",
       "    }\n",
       "</style>\n",
       "<table border=\"1\" class=\"dataframe\">\n",
       "  <thead>\n",
       "    <tr style=\"text-align: right;\">\n",
       "      <th>HOSPITAL_STAY</th>\n",
       "      <th>No</th>\n",
       "      <th>Yes</th>\n",
       "    </tr>\n",
       "    <tr>\n",
       "      <th>VISITS_10</th>\n",
       "      <th></th>\n",
       "      <th></th>\n",
       "    </tr>\n",
       "  </thead>\n",
       "  <tbody>\n",
       "    <tr>\n",
       "      <th>No</th>\n",
       "      <td>8661</td>\n",
       "      <td>914</td>\n",
       "    </tr>\n",
       "    <tr>\n",
       "      <th>Yes</th>\n",
       "      <td>1350</td>\n",
       "      <td>796</td>\n",
       "    </tr>\n",
       "  </tbody>\n",
       "</table>\n",
       "</div>"
      ],
      "text/plain": [
       "HOSPITAL_STAY    No  Yes\n",
       "VISITS_10               \n",
       "No             8661  914\n",
       "Yes            1350  796"
      ]
     },
     "execution_count": 12,
     "metadata": {},
     "output_type": "execute_result"
    }
   ],
   "source": [
    "# quick crosstab\n",
    "tab = pd.crosstab(dat['VISITS_10'],dat['HOSPITAL_STAY'])\n",
    "tab"
   ]
  },
  {
   "cell_type": "code",
   "execution_count": 19,
   "metadata": {},
   "outputs": [
    {
     "data": {
      "text/plain": [
       "[(0, 40),\n",
       " Text(0, 0.5, 'Percent with hospitalization in last year'),\n",
       " Text(0.5, 0, '>= 10 healthcare visits in last year')]"
      ]
     },
     "execution_count": 19,
     "metadata": {},
     "output_type": "execute_result"
    },
    {
     "data": {
      "image/png": "[encoded data removed]",
      "text/plain": [
       "<Figure size 1152x576 with 1 Axes>"
      ]
     },
     "metadata": {
      "needs_background": "light"
     },
     "output_type": "display_data"
    }
   ],
   "source": [
    "# Further analysis of this question regarding 10 visits and likelihood of hospital stay\n",
    "plt.figure(figsize=(16, 8))\n",
    "pctdf = (dat >>\n",
    "         mutate(COUNT = 1) >>\n",
    "         group_by(X.VISITS_10, X.HOSPITAL_STAY) >>\n",
    "         summarize(N = n(X.COUNT)) >>\n",
    "         spread(X.HOSPITAL_STAY, X.N)\n",
    "         )\n",
    "pctdf.columns = ['VISITS_10', 'NO_HOSP', 'HOSP']\n",
    "pctdf['PERCENT'] = round((pctdf['HOSP'] / (pctdf['NO_HOSP'] + pctdf['HOSP']))*100,2)\n",
    "pctdf['VISITS_10_LAB'] = np.where(pctdf['VISITS_10'] == 'Yes', '10 or more visits', 'Less than 10 visits')\n",
    "bp = sns.barplot(x = 'VISITS_10_LAB', y = 'PERCENT', data = pctdf)\n",
    "bp.set(xlabel='>= 10 healthcare visits in last year', ylabel='Percent with hospitalization in last year', ylim=(0, 40))"
   ]
  },
  {
   "cell_type": "markdown",
   "metadata": {},
   "source": [
    "### Among those with a hospitalization... are those with 10 or more visits more frequent users of the hospital?"
   ]
  },
  {
   "cell_type": "code",
   "execution_count": 14,
   "metadata": {},
   "outputs": [
    {
     "data": {
      "text/plain": [
       "(1710, 8)"
      ]
     },
     "execution_count": 14,
     "metadata": {},
     "output_type": "execute_result"
    }
   ],
   "source": [
    "# Further analysis on this question\n",
    "dat2 = dat[dat['HOSPITAL_STAY']=='Yes'].copy()\n",
    "dat2.shape"
   ]
  },
  {
   "cell_type": "code",
   "execution_count": 15,
   "metadata": {},
   "outputs": [
    {
     "data": {
      "text/plain": [
       "             10016\n",
       "1             1195\n",
       "2              306\n",
       "3              109\n",
       "4 or more       95\n",
       "Name: HOSPNO_CAT, dtype: int64"
      ]
     },
     "execution_count": 15,
     "metadata": {},
     "output_type": "execute_result"
    }
   ],
   "source": [
    "tab = pd.crosstab(dat['HOSPNO_CAT'],dat['VISITS_10'])\n",
    "dat['HOSPNO_CAT'].value_counts()"
   ]
  },
  {
   "cell_type": "code",
   "execution_count": 20,
   "metadata": {},
   "outputs": [
    {
     "data": {
      "text/plain": [
       "<matplotlib.legend.Legend at 0x7fb229819da0>"
      ]
     },
     "execution_count": 20,
     "metadata": {},
     "output_type": "execute_result"
    },
    {
     "data": {
      "image/png": "[encoded data removed]",
      "text/plain": [
       "<Figure size 1152x576 with 1 Axes>"
      ]
     },
     "metadata": {
      "needs_background": "light"
     },
     "output_type": "display_data"
    }
   ],
   "source": [
    "plt.figure(figsize=(16, 8))\n",
    "pctdf = (dat >>\n",
    "         mutate(COUNT = 1) >>\n",
    "         group_by(X.VISITS_10, X.HOSPNO_CAT) >>\n",
    "         summarize(N = n(X.COUNT)) >>\n",
    "         spread(X.VISITS_10, X.N) >>\n",
    "         mask(X.HOSPNO_CAT != '')\n",
    "         )\n",
    "pctdf.columns = ['HOSPNO_CAT', 'VISITS_10_NO', 'VISITS_10_YES']\n",
    "pctdf['PERCENT_NO'] = round((pctdf['VISITS_10_NO'] / (pctdf['VISITS_10_NO'] + pctdf['VISITS_10_YES']))*100,2)\n",
    "pctdf['PERCENT_YES'] = round((pctdf['VISITS_10_YES'] / (pctdf['VISITS_10_NO'] + pctdf['VISITS_10_YES']))*100,2)\n",
    "\n",
    "# not the cleanest way to do it, but whatever\n",
    "dfno = pctdf[['HOSPNO_CAT','PERCENT_NO']].copy()\n",
    "dfno.columns = ['HOSPNO_CAT', 'PERCENT']\n",
    "dfno['VISITS_10'] = 'No'\n",
    "\n",
    "dfyes = pctdf[['HOSPNO_CAT','PERCENT_YES']].copy()\n",
    "dfyes.columns = ['HOSPNO_CAT', 'PERCENT']\n",
    "dfyes['VISITS_10'] = 'Yes'\n",
    "\n",
    "pctdf = pd.concat([dfyes, dfno], axis = 0).reset_index(drop = True)\n",
    "\n",
    "bp = sns.barplot(x = 'HOSPNO_CAT', y = 'PERCENT', hue = 'VISITS_10', data = pctdf)\n",
    "bp.set(xlabel='Number of overnight stays in hospital in last year', ylabel='Percent with greater than 10 visits in last year')\n",
    "plt.legend(title='Greater than 10 Visits')\n"
   ]
  },
  {
   "cell_type": "code",
   "execution_count": null,
   "metadata": {},
   "outputs": [],
   "source": []
  }
 ],
 "metadata": {
  "kernelspec": {
   "display_name": "Python 3",
   "language": "python",
   "name": "python3"
  },
  "language_info": {
   "codemirror_mode": {
    "name": "ipython",
    "version": 3
   },
   "file_extension": ".py",
   "mimetype": "text/x-python",
   "name": "python",
   "nbconvert_exporter": "python",
   "pygments_lexer": "ipython3",
   "version": "3.7.3"
  }
 },
 "nbformat": 4,
 "nbformat_minor": 4
}
