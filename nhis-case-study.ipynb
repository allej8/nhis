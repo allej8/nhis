{
 "cells": [
  {
   "cell_type": "code",
   "execution_count": 1,
   "metadata": {},
   "outputs": [],
   "source": [
    "import pandas as pd\n",
    "import numpy as np\n",
    "import statsmodels.api as sm\n",
    "import seaborn as sns\n",
    "import matplotlib.pyplot as plt\n",
    "%matplotlib inline\n",
    "\n",
    "from dfply import *\n",
    "from tableone import TableOne"
   ]
  },
  {
   "cell_type": "code",
   "execution_count": 2,
   "metadata": {},
   "outputs": [
    {
     "data": {
      "text/plain": [
       "(13389, 602)"
      ]
     },
     "execution_count": 2,
     "metadata": {},
     "output_type": "execute_result"
    }
   ],
   "source": [
    "# reading in family info and subsetting to 65+ year olds\n",
    "peeps = pd.read_csv('Data/personsx.csv')\n",
    "peeps = peeps.assign(_id=np.arange(len(peeps))).reset_index(drop=True)\n",
    "peeps65 = peeps[(peeps['AGE_P']>=65)].copy()\n",
    "peeps65.shape"
   ]
  },
  {
   "cell_type": "code",
   "execution_count": 3,
   "metadata": {},
   "outputs": [
    {
     "data": {
      "text/plain": [
       "array([[<matplotlib.axes._subplots.AxesSubplot object at 0x7f1515477780>,\n",
       "        <matplotlib.axes._subplots.AxesSubplot object at 0x7f1515231390>],\n",
       "       [<matplotlib.axes._subplots.AxesSubplot object at 0x7f1515191908>,\n",
       "        <matplotlib.axes._subplots.AxesSubplot object at 0x7f15150f8e80>]],\n",
       "      dtype=object)"
      ]
     },
     "execution_count": 3,
     "metadata": {},
     "output_type": "execute_result"
    },
    {
     "data": {
      "image/png": "[encoded data removed]",
      "text/plain": [
       "<Figure size 432x288 with 4 Axes>"
      ]
     },
     "metadata": {
      "needs_background": "light"
     },
     "output_type": "display_data"
    }
   ],
   "source": [
    "peeps65[['AGE_P', 'P10DVYR', 'PHOSPYR2', 'HOSPNO']].dropna().hist(sharex=False)"
   ]
  },
  {
   "cell_type": "code",
   "execution_count": 4,
   "metadata": {},
   "outputs": [
    {
     "data": {
      "text/plain": [
       "array([[<matplotlib.axes._subplots.AxesSubplot object at 0x7f1517770f60>,\n",
       "        <matplotlib.axes._subplots.AxesSubplot object at 0x7f1515302470>],\n",
       "       [<matplotlib.axes._subplots.AxesSubplot object at 0x7f15152a89e8>,\n",
       "        <matplotlib.axes._subplots.AxesSubplot object at 0x7f151524ff60>]],\n",
       "      dtype=object)"
      ]
     },
     "execution_count": 4,
     "metadata": {},
     "output_type": "execute_result"
    },
    {
     "data": {
      "image/png": "[encoded data removed]",
      "text/plain": [
       "<Figure size 432x288 with 4 Axes>"
      ]
     },
     "metadata": {
      "needs_background": "light"
     },
     "output_type": "display_data"
    }
   ],
   "source": [
    "def remove_useless_responses(df, col, values):\n",
    "    df[col] = np.where(df[col].isin(values), np.nan, df[col])\n",
    "    \n",
    "remove_useless_responses(peeps65, 'HOSPNO', [999])\n",
    "remove_useless_responses(peeps65, 'AGE_P', [85])\n",
    "remove_useless_responses(peeps65, 'P10DVYR', [7,8,9])\n",
    "remove_useless_responses(peeps65, 'PHOSPYR2', [7,8,9])\n",
    "\n",
    "peeps65[['AGE_P', 'P10DVYR', 'PHOSPYR2', 'HOSPNO']].dropna().hist()"
   ]
  },
  {
   "cell_type": "code",
   "execution_count": 5,
   "metadata": {},
   "outputs": [
    {
     "data": {
      "text/plain": [
       "2.0    11320\n",
       "1.0     2049\n",
       "Name: PHOSPYR2, dtype: int64"
      ]
     },
     "execution_count": 5,
     "metadata": {},
     "output_type": "execute_result"
    }
   ],
   "source": [
    "# histogram was usless\n",
    "peeps65['PHOSPYR2'].value_counts() "
   ]
  },
  {
   "cell_type": "code",
   "execution_count": 6,
   "metadata": {},
   "outputs": [
    {
     "data": {
      "text/plain": [
       "count    2041.000000\n",
       "mean        1.582068\n",
       "std         1.620413\n",
       "min         1.000000\n",
       "25%         1.000000\n",
       "50%         1.000000\n",
       "75%         2.000000\n",
       "max        42.000000\n",
       "Name: HOSPNO, dtype: float64"
      ]
     },
     "execution_count": 6,
     "metadata": {},
     "output_type": "execute_result"
    }
   ],
   "source": [
    "# more information in hospital nights\n",
    "peeps65['HOSPNO'].describe()"
   ]
  },
  {
   "cell_type": "code",
   "execution_count": 7,
   "metadata": {},
   "outputs": [
    {
     "data": {
      "text/plain": [
       "1.0     1429\n",
       "2.0      369\n",
       "3.0      128\n",
       "4.0       57\n",
       "5.0       21\n",
       "6.0       16\n",
       "9.0        6\n",
       "7.0        5\n",
       "10.0       4\n",
       "14.0       2\n",
       "30.0       1\n",
       "42.0       1\n",
       "12.0       1\n",
       "8.0        1\n",
       "Name: HOSPNO, dtype: int64"
      ]
     },
     "execution_count": 7,
     "metadata": {},
     "output_type": "execute_result"
    }
   ],
   "source": [
    "# probably want to categorize\n",
    "peeps65['HOSPNO'].value_counts()"
   ]
  },
  {
   "cell_type": "code",
   "execution_count": 8,
   "metadata": {},
   "outputs": [
    {
     "data": {
      "text/plain": [
       "nan          11348\n",
       "1             1429\n",
       "2              369\n",
       "3              128\n",
       "4 or more      115\n",
       "Name: HOSPNO_CAT, dtype: int64"
      ]
     },
     "execution_count": 8,
     "metadata": {},
     "output_type": "execute_result"
    }
   ],
   "source": [
    "# 10 primary care visits in the last year.... this seems like a lot\n",
    "peeps65['VISITS_10'] = np.nan\n",
    "peeps65['VISITS_10'] = np.where(peeps65['P10DVYR'] == 1, 1, peeps65['VISITS_10'])\n",
    "peeps65['VISITS_10'] = np.where(peeps65['P10DVYR'] == 2, 0, peeps65['VISITS_10'])\n",
    "\n",
    "# Assuming an overnight hospital stay is an admission\n",
    "peeps65['HOSPITAL_STAY'] = np.nan\n",
    "peeps65['HOSPITAL_STAY'] = np.where(peeps65['PHOSPYR2'] == 1, 1, peeps65['HOSPITAL_STAY'])\n",
    "peeps65['HOSPITAL_STAY'] = np.where(peeps65['PHOSPYR2'] == 2, 0, peeps65['HOSPITAL_STAY'])\n",
    "\n",
    "peeps65['HOSPNO_CAT'] = np.nan\n",
    "peeps65['HOSPNO_CAT'] = np.where(peeps65['HOSPNO'] == 1, '1', peeps65['HOSPNO_CAT'])\n",
    "peeps65['HOSPNO_CAT'] = np.where(peeps65['HOSPNO'] == 2, '2', peeps65['HOSPNO_CAT'])\n",
    "peeps65['HOSPNO_CAT'] = np.where(peeps65['HOSPNO'] == 3, '3', peeps65['HOSPNO_CAT'])\n",
    "peeps65['HOSPNO_CAT'] = np.where(peeps65['HOSPNO'] > 3, '4 or more', peeps65['HOSPNO_CAT'])\n",
    "peeps65['HOSPNO_CAT'].value_counts()"
   ]
  },
  {
   "cell_type": "markdown",
   "metadata": {},
   "source": [
    "### Are individuals who have 10 or more visits during the calendar year more likely to also have a hospital stay?\n",
    "- Are they continually having problems?\n",
    "- Are they abusing the healthcare system?\n",
    "- Are they extremely proactive about their health?"
   ]
  },
  {
   "cell_type": "code",
   "execution_count": 9,
   "metadata": {},
   "outputs": [],
   "source": [
    "cols_to_keep = ['_id','HOSPITAL_STAY','VISITS_10', 'AGE_P']\n",
    "dat = peeps65[cols_to_keep].copy().dropna()"
   ]
  },
  {
   "cell_type": "code",
   "execution_count": 10,
   "metadata": {},
   "outputs": [
    {
     "data": {
      "text/html": [
       "<div>\n",
       "<style scoped>\n",
       "    .dataframe tbody tr th:only-of-type {\n",
       "        vertical-align: middle;\n",
       "    }\n",
       "\n",
       "    .dataframe tbody tr th {\n",
       "        vertical-align: top;\n",
       "    }\n",
       "\n",
       "    .dataframe thead th {\n",
       "        text-align: right;\n",
       "    }\n",
       "</style>\n",
       "<table border=\"1\" class=\"dataframe\">\n",
       "  <thead>\n",
       "    <tr style=\"text-align: right;\">\n",
       "      <th>HOSPITAL_STAY</th>\n",
       "      <th>0.0</th>\n",
       "      <th>1.0</th>\n",
       "    </tr>\n",
       "    <tr>\n",
       "      <th>VISITS_10</th>\n",
       "      <th></th>\n",
       "      <th></th>\n",
       "    </tr>\n",
       "  </thead>\n",
       "  <tbody>\n",
       "    <tr>\n",
       "      <th>0.0</th>\n",
       "      <td>8816</td>\n",
       "      <td>922</td>\n",
       "    </tr>\n",
       "    <tr>\n",
       "      <th>1.0</th>\n",
       "      <td>1364</td>\n",
       "      <td>798</td>\n",
       "    </tr>\n",
       "  </tbody>\n",
       "</table>\n",
       "</div>"
      ],
      "text/plain": [
       "HOSPITAL_STAY   0.0  1.0\n",
       "VISITS_10               \n",
       "0.0            8816  922\n",
       "1.0            1364  798"
      ]
     },
     "execution_count": 10,
     "metadata": {},
     "output_type": "execute_result"
    }
   ],
   "source": [
    "# quick crosstab\n",
    "tab = pd.crosstab(dat['VISITS_10'],dat['HOSPITAL_STAY'])\n",
    "tab"
   ]
  },
  {
   "cell_type": "code",
   "execution_count": 11,
   "metadata": {},
   "outputs": [
    {
     "data": {
      "text/plain": [
       "[(0, 40),\n",
       " Text(0, 0.5, 'Hospitalization in last year (%)'),\n",
       " Text(0.5, 0, '>= 10 healthcare visits in last year')]"
      ]
     },
     "execution_count": 11,
     "metadata": {},
     "output_type": "execute_result"
    },
    {
     "data": {
      "image/png": "[encoded data removed]",
      "text/plain": [
       "<Figure size 432x288 with 1 Axes>"
      ]
     },
     "metadata": {
      "needs_background": "light"
     },
     "output_type": "display_data"
    }
   ],
   "source": [
    "# Further analysis of this question regarding 10 visits and likelihood of hospital stay\n",
    "pctdf = (dat >>\n",
    "         mutate(COUNT = 1) >>\n",
    "         group_by(X.VISITS_10, X.HOSPITAL_STAY) >>\n",
    "         summarize(N = n(X.COUNT)) >>\n",
    "         spread(X.HOSPITAL_STAY, X.N)\n",
    "         )\n",
    "pctdf.columns = ['VISITS_10', 'NO_HOSP', 'HOSP']\n",
    "pctdf['PERCENT'] = round((pctdf['HOSP'] / (pctdf['NO_HOSP'] + pctdf['HOSP']))*100,2)\n",
    "pctdf['VISITS_10_LAB'] = np.where(pctdf['VISITS_10'] == 1, '10 or more visits', 'Less than 10 visits')\n",
    "bp = sns.barplot(x = 'VISITS_10_LAB', y = 'PERCENT', data = pctdf)\n",
    "bp.set(xlabel='>= 10 healthcare visits in last year', ylabel='Hospitalization in last year (%)', ylim=(0, 40))"
   ]
  },
  {
   "cell_type": "code",
   "execution_count": 12,
   "metadata": {},
   "outputs": [
    {
     "name": "stdout",
     "output_type": "stream",
     "text": [
      "Optimization terminated successfully.\n",
      "         Current function value: 0.373784\n",
      "         Iterations 6\n"
     ]
    },
    {
     "data": {
      "text/html": [
       "<table class=\"simpletable\">\n",
       "<caption>Logit Regression Results</caption>\n",
       "<tr>\n",
       "  <th>Dep. Variable:</th>     <td>HOSPITAL_STAY</td>  <th>  No. Observations:  </th>   <td> 11900</td>  \n",
       "</tr>\n",
       "<tr>\n",
       "  <th>Model:</th>                 <td>Logit</td>      <th>  Df Residuals:      </th>   <td> 11897</td>  \n",
       "</tr>\n",
       "<tr>\n",
       "  <th>Method:</th>                 <td>MLE</td>       <th>  Df Model:          </th>   <td>     2</td>  \n",
       "</tr>\n",
       "<tr>\n",
       "  <th>Date:</th>            <td>Mon, 10 Feb 2020</td> <th>  Pseudo R-squ.:     </th>   <td>0.09521</td> \n",
       "</tr>\n",
       "<tr>\n",
       "  <th>Time:</th>                <td>13:12:57</td>     <th>  Log-Likelihood:    </th>  <td> -4448.0</td> \n",
       "</tr>\n",
       "<tr>\n",
       "  <th>converged:</th>             <td>True</td>       <th>  LL-Null:           </th>  <td> -4916.1</td> \n",
       "</tr>\n",
       "<tr>\n",
       "  <th>Covariance Type:</th>     <td>nonrobust</td>    <th>  LLR p-value:       </th> <td>5.363e-204</td>\n",
       "</tr>\n",
       "</table>\n",
       "<table class=\"simpletable\">\n",
       "<tr>\n",
       "      <td></td>         <th>coef</th>     <th>std err</th>      <th>z</th>      <th>P>|z|</th>  <th>[0.025</th>    <th>0.975]</th>  \n",
       "</tr>\n",
       "<tr>\n",
       "  <th>VISITS_10</th> <td>    1.7063</td> <td>    0.057</td> <td>   30.130</td> <td> 0.000</td> <td>    1.595</td> <td>    1.817</td>\n",
       "</tr>\n",
       "<tr>\n",
       "  <th>AGE_P</th>     <td>    0.0359</td> <td>    0.005</td> <td>    7.228</td> <td> 0.000</td> <td>    0.026</td> <td>    0.046</td>\n",
       "</tr>\n",
       "<tr>\n",
       "  <th>intercept</th> <td>   -4.8602</td> <td>    0.364</td> <td>  -13.358</td> <td> 0.000</td> <td>   -5.573</td> <td>   -4.147</td>\n",
       "</tr>\n",
       "</table>"
      ],
      "text/plain": [
       "<class 'statsmodels.iolib.summary.Summary'>\n",
       "\"\"\"\n",
       "                           Logit Regression Results                           \n",
       "==============================================================================\n",
       "Dep. Variable:          HOSPITAL_STAY   No. Observations:                11900\n",
       "Model:                          Logit   Df Residuals:                    11897\n",
       "Method:                           MLE   Df Model:                            2\n",
       "Date:                Mon, 10 Feb 2020   Pseudo R-squ.:                 0.09521\n",
       "Time:                        13:12:57   Log-Likelihood:                -4448.0\n",
       "converged:                       True   LL-Null:                       -4916.1\n",
       "Covariance Type:            nonrobust   LLR p-value:                5.363e-204\n",
       "==============================================================================\n",
       "                 coef    std err          z      P>|z|      [0.025      0.975]\n",
       "------------------------------------------------------------------------------\n",
       "VISITS_10      1.7063      0.057     30.130      0.000       1.595       1.817\n",
       "AGE_P          0.0359      0.005      7.228      0.000       0.026       0.046\n",
       "intercept     -4.8602      0.364    -13.358      0.000      -5.573      -4.147\n",
       "==============================================================================\n",
       "\"\"\""
      ]
     },
     "execution_count": 12,
     "metadata": {},
     "output_type": "execute_result"
    }
   ],
   "source": [
    "# modeling\n",
    "dat['intercept'] = 1.0\n",
    "train_cols = dat.columns[2:]\n",
    "train_cols\n",
    "logit = sm.Logit(dat['HOSPITAL_STAY'], dat[train_cols])\n",
    "\n",
    "# fit the model\n",
    "result = logit.fit()\n",
    "result.summary()"
   ]
  },
  {
   "cell_type": "markdown",
   "metadata": {},
   "source": [
    "### Among those with a hospitalization... are those with 10 or more visits more frequent users of the hospital?"
   ]
  },
  {
   "cell_type": "code",
   "execution_count": 13,
   "metadata": {},
   "outputs": [],
   "source": [
    "# Further analysis on this question\n",
    "cols_to_keep = ['_id', 'HOSPITAL_STAY', 'HOSPNO_CAT','VISITS_10', 'AGE_P']\n",
    "dat2 = peeps65[cols_to_keep].copy()\n",
    "dat2 = dat2[dat2['_id'].isin(dat._id.tolist())]\n",
    "datHosp = dat2[dat2['HOSPITAL_STAY']==1].copy()"
   ]
  },
  {
   "cell_type": "code",
   "execution_count": 14,
   "metadata": {},
   "outputs": [
    {
     "data": {
      "text/plain": [
       "1            1201\n",
       "2             308\n",
       "3             111\n",
       "4 or more      95\n",
       "nan             5\n",
       "Name: HOSPNO_CAT, dtype: int64"
      ]
     },
     "execution_count": 14,
     "metadata": {},
     "output_type": "execute_result"
    }
   ],
   "source": [
    "tab = pd.crosstab(datHosp['HOSPNO_CAT'],datHosp['VISITS_10'])\n",
    "datHosp['HOSPNO_CAT'].value_counts()"
   ]
  },
  {
   "cell_type": "code",
   "execution_count": 15,
   "metadata": {},
   "outputs": [
    {
     "data": {
      "text/plain": [
       "[Text(0, 0.5, 'Percent'),\n",
       " Text(0.5, 0, 'Number of overnight stays in hospital in last year')]"
      ]
     },
     "execution_count": 15,
     "metadata": {},
     "output_type": "execute_result"
    },
    {
     "data": {
      "image/png": "[encoded data removed]",
      "text/plain": [
       "<Figure size 432x288 with 1 Axes>"
      ]
     },
     "metadata": {
      "needs_background": "light"
     },
     "output_type": "display_data"
    }
   ],
   "source": [
    "pctdf = (datHosp >>\n",
    "         mutate(COUNT = 1) >>\n",
    "         group_by(X.VISITS_10, X.HOSPNO_CAT) >>\n",
    "         summarize(N = n(X.COUNT)) >>\n",
    "         spread(X.VISITS_10, X.N) >>\n",
    "         mask(X.HOSPNO_CAT != 'nan')\n",
    "         )\n",
    "pctdf.columns = ['HOSPNO_CAT', 'VISITS_10_NO', 'VISITS_10_YES']\n",
    "pctdf['PERCENT_NO'] = round((pctdf['VISITS_10_NO'] / (pctdf['VISITS_10_NO'] + pctdf['VISITS_10_YES']))*100,2)\n",
    "pctdf['PERCENT_YES'] = round((pctdf['VISITS_10_YES'] / (pctdf['VISITS_10_NO'] + pctdf['VISITS_10_YES']))*100,2)\n",
    "\n",
    "# not the cleanest way to do it, but whatever\n",
    "dfno = pctdf[['HOSPNO_CAT','PERCENT_NO']].copy()\n",
    "dfno.columns = ['HOSPNO_CAT', 'PERCENT']\n",
    "dfno['VISITS_10'] = 'No'\n",
    "\n",
    "dfyes = pctdf[['HOSPNO_CAT','PERCENT_YES']].copy()\n",
    "dfyes.columns = ['HOSPNO_CAT', 'PERCENT']\n",
    "dfyes['VISITS_10'] = 'Yes'\n",
    "\n",
    "pctdf = pd.concat([dfyes, dfno], axis = 0).reset_index(drop = True)\n",
    "\n",
    "bp = sns.barplot(x = 'HOSPNO_CAT', y = 'PERCENT', hue = 'VISITS_10', data = pctdf)\n",
    "bp.set(xlabel='Number of overnight stays in hospital in last year', ylabel='Percent')\n"
   ]
  },
  {
   "cell_type": "markdown",
   "metadata": {},
   "source": [
    "### Notes\n",
    "- idea 1... are children more likely to have a hospitalization if their parents do? Vice versa?\n",
    "- idea 2... are those who receive primary/ambulatory care 10 times or more in a year less likely to have a hospitalization\n",
    "- have number of times stayed in hospital overnight -- HOSPNO\n",
    "- health insurance offered at workplace, yes/no -- HIEMPOF \n",
    "- received home health care -- PHCHM2W\n",
    "- number of times -- PHCHMN2W\n",
    "- received advice over phone -- PHCPH2WR\n",
    "- number of calls -- PHCPHN2W\n",
    "- went to see provider office -- PHCDV2W\n",
    "- number of office visits -- PHCDVN2W\n",
    "- received care 10 times -- P10DVYR\n",
    "- age -- AGE_P"
   ]
  },
  {
   "cell_type": "code",
   "execution_count": null,
   "metadata": {},
   "outputs": [],
   "source": []
  }
 ],
 "metadata": {
  "kernelspec": {
   "display_name": "Python 3",
   "language": "python",
   "name": "python3"
  },
  "language_info": {
   "codemirror_mode": {
    "name": "ipython",
    "version": 3
   },
   "file_extension": ".py",
   "mimetype": "text/x-python",
   "name": "python",
   "nbconvert_exporter": "python",
   "pygments_lexer": "ipython3",
   "version": "3.7.3"
  }
 },
 "nbformat": 4,
 "nbformat_minor": 4
}
