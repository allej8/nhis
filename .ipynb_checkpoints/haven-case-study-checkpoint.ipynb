{
 "cells": [
  {
   "cell_type": "code",
   "execution_count": 1,
   "metadata": {},
   "outputs": [],
   "source": [
    "import pandas as pd\n",
    "import numpy as np"
   ]
  },
  {
   "cell_type": "code",
   "execution_count": 2,
   "metadata": {},
   "outputs": [
    {
     "data": {
      "text/plain": [
       "{'family': (33157, 127),\n",
       " 'house': (49067, 17),\n",
       " 'peeps': (78132, 601),\n",
       " 'injpo': (2651, 61)}"
      ]
     },
     "execution_count": 2,
     "metadata": {},
     "output_type": "execute_result"
    }
   ],
   "source": [
    "family = pd.read_csv('Data/familyxx.csv')\n",
    "house = pd.read_csv('Data/househld.csv')\n",
    "peeps = pd.read_csv('Data/personsx.csv')\n",
    "injpo = pd.read_csv('Data/injpoiep.csv')\n",
    "\n",
    "{'family':family.shape, 'house':house.shape, 'peeps':peeps.shape, 'injpo':injpo.shape}"
   ]
  },
  {
   "cell_type": "code",
   "execution_count": 3,
   "metadata": {},
   "outputs": [
    {
     "data": {
      "text/plain": [
       "(60078, 601)"
      ]
     },
     "execution_count": 3,
     "metadata": {},
     "output_type": "execute_result"
    }
   ],
   "source": [
    "peeps18 = peeps[peeps['AGE_P']>=18].copy()\n",
    "peeps18.shape"
   ]
  },
  {
   "cell_type": "markdown",
   "metadata": {},
   "source": [
    "### Are individuals who have 10 or more visits during the calendar year more likely to also have a hospital stay?\n",
    "- Are they continually having problems?\n",
    "- Are they abusing the healthcare system?\n",
    "- Are they extremely proactive about their health?"
   ]
  },
  {
   "cell_type": "code",
   "execution_count": 7,
   "metadata": {},
   "outputs": [
    {
     "data": {
      "text/html": [
       "<div>\n",
       "<style scoped>\n",
       "    .dataframe tbody tr th:only-of-type {\n",
       "        vertical-align: middle;\n",
       "    }\n",
       "\n",
       "    .dataframe tbody tr th {\n",
       "        vertical-align: top;\n",
       "    }\n",
       "\n",
       "    .dataframe thead th {\n",
       "        text-align: right;\n",
       "    }\n",
       "</style>\n",
       "<table border=\"1\" class=\"dataframe\">\n",
       "  <thead>\n",
       "    <tr style=\"text-align: right;\">\n",
       "      <th>HOSPITAL_STAY</th>\n",
       "      <th>No</th>\n",
       "      <th>Yes</th>\n",
       "      <th>nan</th>\n",
       "    </tr>\n",
       "    <tr>\n",
       "      <th>VISITS_10</th>\n",
       "      <th></th>\n",
       "      <th></th>\n",
       "      <th></th>\n",
       "    </tr>\n",
       "  </thead>\n",
       "  <tbody>\n",
       "    <tr>\n",
       "      <th>No</th>\n",
       "      <td>49667</td>\n",
       "      <td>2874</td>\n",
       "      <td>33</td>\n",
       "    </tr>\n",
       "    <tr>\n",
       "      <th>Yes</th>\n",
       "      <td>4976</td>\n",
       "      <td>2371</td>\n",
       "      <td>7</td>\n",
       "    </tr>\n",
       "    <tr>\n",
       "      <th>nan</th>\n",
       "      <td>99</td>\n",
       "      <td>17</td>\n",
       "      <td>34</td>\n",
       "    </tr>\n",
       "  </tbody>\n",
       "</table>\n",
       "</div>"
      ],
      "text/plain": [
       "HOSPITAL_STAY     No   Yes  nan\n",
       "VISITS_10                      \n",
       "No             49667  2874   33\n",
       "Yes             4976  2371    7\n",
       "nan               99    17   34"
      ]
     },
     "execution_count": 7,
     "metadata": {},
     "output_type": "execute_result"
    }
   ],
   "source": [
    "# recoding variables for easier names and to turn non-responses to na\n",
    "\n",
    "# 10 primary care visits in the last year.... this seems like a lot\n",
    "peeps18['VISITS_10'] = np.nan\n",
    "peeps18['VISITS_10'] = np.where(peeps18['P10DVYR'] == 1, 'Yes', peeps18['VISITS_10'])\n",
    "peeps18['VISITS_10'] = np.where(peeps18['P10DVYR'] == 2, 'No', peeps18['VISITS_10'])\n",
    "\n",
    "# Assuming an overnight hospital stay is an admission\n",
    "peeps18['HOSPITAL_STAY'] = np.nan\n",
    "peeps18['HOSPITAL_STAY'] = np.where(peeps18['PHOSPYR2'] == 1, 'Yes', peeps18['HOSPITAL_STAY'])\n",
    "peeps18['HOSPITAL_STAY'] = np.where(peeps18['PHOSPYR2'] == 2, 'No', peeps18['HOSPITAL_STAY'])\n",
    "\n",
    "# quick crosstab\n",
    "pd.crosstab(peeps18['VISITS_10'],peeps18['HOSPITAL_STAY'])"
   ]
  },
  {
   "cell_type": "code",
   "execution_count": 8,
   "metadata": {},
   "outputs": [],
   "source": [
    "# Further analysis of this question regarding 10 visits and likelihood of hospital stay"
   ]
  },
  {
   "cell_type": "code",
   "execution_count": null,
   "metadata": {},
   "outputs": [],
   "source": []
  },
  {
   "cell_type": "code",
   "execution_count": 6,
   "metadata": {},
   "outputs": [],
   "source": [
    "# notes \n",
    "# idea 1... are children more likely to have a hospitalization if their parents do? Vice versa?\n",
    "# idea 2... are those who receive primary/ambulatory care 10 times or more in a year less likely to have a hospitalization\n",
    "# have number of times stayed in hospital overnight -- HOSPNO\n",
    "# health insurance offered at workplace, yes/no -- HIEMPOF \n",
    "# received home health care -- PHCHM2W\n",
    "# number of times -- PHCHMN2W\n",
    "# received advice over phone -- PHCPH2WR\n",
    "# number of calls -- PHCPHN2W\n",
    "# went to see provider office -- PHCDV2W\n",
    "# number of office visits -- PHCDVN2W\n",
    "# received care 10 times -- P10DVYR\n",
    "# age -- AGE_P"
   ]
  }
 ],
 "metadata": {
  "kernelspec": {
   "display_name": "Python 3",
   "language": "python",
   "name": "python3"
  },
  "language_info": {
   "codemirror_mode": {
    "name": "ipython",
    "version": 3
   },
   "file_extension": ".py",
   "mimetype": "text/x-python",
   "name": "python",
   "nbconvert_exporter": "python",
   "pygments_lexer": "ipython3",
   "version": "3.7.3"
  }
 },
 "nbformat": 4,
 "nbformat_minor": 4
}
